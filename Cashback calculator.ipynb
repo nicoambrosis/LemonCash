{
 "cells": [
  {
   "cell_type": "code",
   "execution_count": 1,
   "metadata": {},
   "outputs": [],
   "source": [
    "# Este programita permite calcular a que precio devuelve el cash back Lemon cash."
   ]
  },
  {
   "cell_type": "code",
   "execution_count": 10,
   "metadata": {},
   "outputs": [
    {
     "name": "stdout",
     "output_type": "stream",
     "text": [
      "Ingresar el monto de la compra\n",
      "1024.39\n",
      "ingrese el monto de BTC recibido como cashback\n",
      "0.00000232\n",
      "\n",
      "\n",
      "\n",
      "\n",
      "\n",
      "\n",
      "^^^^^^^^^^^^^^^ GASTO = 1,024 ARS ^^^^^^^^^^^^^^^^\n",
      "^^^^^^^^^^ CASHBACK EN ARS = 20.49 ARS ^^^^^^^^^^^\n",
      "^^^^^^^ CASHBACK en  BTC = 0.00000232 BTC ^^^^^^^^\n",
      "^^^^^^^^^^^ PRECIO BTC = 8,830,948 ARS ^^^^^^^^^^^\n",
      "\n",
      "\n",
      "\n",
      "\n",
      "\n",
      "NOTA: Separador de MILES: ,\n",
      " Separador de DECIMALES: .\n"
     ]
    }
   ],
   "source": [
    "print(\"Ingresar el monto de la compra\")\n",
    "compra_ARS = float(input())\n",
    "\n",
    "print(\"ingrese el monto de BTC recibido como cashback\")\n",
    "cashback_BTC = round((float(input())),9)\n",
    "\n",
    "   \n",
    "\n",
    "\n",
    "cashback_ARS = (2*compra_ARS)/100\n",
    "btc_price = cashback_ARS/cashback_BTC\n",
    "\n",
    "print('\\n'*5)\n",
    "\n",
    "print(f' GASTO = {int(compra_ARS):,} ARS '.center(50,'^'))\n",
    "\n",
    "print(f' CASHBACK EN ARS = {cashback_ARS:.2f} ARS '.center(50,'^'))\n",
    "\n",
    "print(f' CASHBACK en  BTC = {cashback_BTC:.8f} BTC '.center(50,'^'))\n",
    "\n",
    "print(f' PRECIO BTC = {int(btc_price):,} ARS '.center(50,'^'))\n",
    "\n",
    "\n",
    "print(\"\\n\"*5 + \"NOTA: Separador de MILES: ,\\n Separador de DECIMALES: .\")"
   ]
  },
  {
   "cell_type": "code",
   "execution_count": null,
   "metadata": {},
   "outputs": [],
   "source": []
  }
 ],
 "metadata": {
  "kernelspec": {
   "display_name": "Python 3",
   "language": "python",
   "name": "python3"
  },
  "language_info": {
   "codemirror_mode": {
    "name": "ipython",
    "version": 3
   },
   "file_extension": ".py",
   "mimetype": "text/x-python",
   "name": "python",
   "nbconvert_exporter": "python",
   "pygments_lexer": "ipython3",
   "version": "3.8.6"
  }
 },
 "nbformat": 4,
 "nbformat_minor": 4
}
